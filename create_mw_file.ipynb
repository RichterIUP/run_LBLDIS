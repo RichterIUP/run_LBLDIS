{
 "cells": [
  {
   "cell_type": "code",
   "execution_count": 2,
   "metadata": {},
   "outputs": [
    {
     "name": "stdout",
     "output_type": "stream",
     "text": [
      "[500. 501. 502. 503. 504. 505. 506. 507. 508. 509. 510. 511. 512. 513.\n",
      " 514. 515. 516. 517. 518. 519. 520. 521. 522. 523. 524. 525. 526. 527.\n",
      " 528. 529. 530. 531. 532. 533. 534. 535. 536. 537. 538. 539. 540. 541.\n",
      " 542. 543. 544. 545. 546. 547. 548. 549. 550. 551. 552. 553. 554. 555.\n",
      " 556. 557. 558. 559. 560. 561. 562. 563. 564. 565. 566. 567. 568. 569.\n",
      " 570. 571. 572. 573. 574. 575. 576. 577. 578. 579. 580. 581. 582. 583.\n",
      " 584. 585. 586. 587. 588. 589. 590. 591. 592. 593. 594. 595. 596. 597.\n",
      " 598. 599. 600. 601. 602. 603. 604. 605. 606. 607. 608. 609. 610. 611.\n",
      " 612. 613. 614. 615. 616. 617. 618. 619. 620. 621. 622. 623. 624. 625.\n",
      " 626. 627. 628. 629. 630. 631. 632. 633. 634. 635. 636. 637. 638. 639.\n",
      " 640. 641. 642. 643. 644. 645. 646. 647. 648. 649. 650. 651. 652. 653.\n",
      " 654. 655. 656. 657. 658. 659. 660. 661. 662. 663. 664. 665. 666. 667.\n",
      " 668. 669. 670. 671. 672. 673. 674. 675. 676. 677. 678. 679. 680. 681.\n",
      " 682. 683. 684. 685. 686. 687. 688. 689. 690. 691. 692. 693. 694. 695.\n",
      " 696. 697. 698. 699.]\n"
     ]
    }
   ],
   "source": [
    "import numpy as np"
   ]
  },
  {
   "cell_type": "code",
   "execution_count": 3,
   "metadata": {},
   "outputs": [],
   "source": [
    "wn_low = 500.0\n",
    "wn_high = 700.0\n",
    "delta = 1.0"
   ]
  },
  {
   "cell_type": "code",
   "execution_count": 4,
   "metadata": {},
   "outputs": [],
   "source": [
    "lower_limit = np.arange(wn_low, wn_high, delta)\n",
    "upper_limit = np.arange(wn_low+delta, wn_high+delta, delta)\n",
    "num = lower_limit.size\n",
    "\n",
    "with open(\"mw\", \"w\") as file_:\n",
    "    file_.write(\"{}\\n\".format(num))\n",
    "    for i in range(num):\n",
    "        file_.write(\"{} {}\\n\".format(lower_limit[i], upper_limit[i]))"
   ]
  }
 ],
 "metadata": {
  "kernelspec": {
   "display_name": "v2020.3 LAMOS (py3.7.8)",
   "language": "python",
   "name": "lamos_2020.3"
  },
  "language_info": {
   "codemirror_mode": {
    "name": "ipython",
    "version": 3
   },
   "file_extension": ".py",
   "mimetype": "text/x-python",
   "name": "python",
   "nbconvert_exporter": "python",
   "pygments_lexer": "ipython3",
   "version": "3.7.8"
  }
 },
 "nbformat": 4,
 "nbformat_minor": 4
}
