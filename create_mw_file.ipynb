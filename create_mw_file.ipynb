{
 "cells": [
  {
   "cell_type": "code",
   "execution_count": 1,
   "metadata": {},
   "outputs": [],
   "source": [
    "import numpy as np"
   ]
  },
  {
   "cell_type": "code",
   "execution_count": 4,
   "metadata": {},
   "outputs": [],
   "source": [
    "wn_low = 300.0\n",
    "wn_high = 1500.0\n",
    "delta = 1.0"
   ]
  },
  {
   "cell_type": "code",
   "execution_count": 5,
   "metadata": {},
   "outputs": [],
   "source": [
    "lower_limit = np.arange(wn_low, wn_high, delta)\n",
    "upper_limit = np.arange(wn_low+delta, wn_high+delta, delta)\n",
    "num = lower_limit.size\n",
    "\n",
    "with open(\"mw\", \"w\") as file_:\n",
    "    file_.write(\"{}\\n\".format(num))\n",
    "    for i in range(num):\n",
    "        file_.write(\"{} {}\\n\".format(lower_limit[i], upper_limit[i]))"
   ]
  },
  {
   "cell_type": "code",
   "execution_count": null,
   "metadata": {},
   "outputs": [],
   "source": []
  }
 ],
 "metadata": {
  "kernelspec": {
   "display_name": "v2020.3 LAMOS (py3.7.8)",
   "language": "python",
   "name": "lamos_2020.3"
  },
  "language_info": {
   "codemirror_mode": {
    "name": "ipython",
    "version": 3
   },
   "file_extension": ".py",
   "mimetype": "text/x-python",
   "name": "python",
   "nbconvert_exporter": "python",
   "pygments_lexer": "ipython3",
   "version": "3.7.8"
  }
 },
 "nbformat": 4,
 "nbformat_minor": 4
}
