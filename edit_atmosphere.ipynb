{
 "cells": [
  {
   "cell_type": "code",
   "execution_count": 13,
   "metadata": {},
   "outputs": [],
   "source": [
    "import pandas as pd\n",
    "import netCDF4 as nc\n",
    "import scipy.interpolate"
   ]
  },
  {
   "cell_type": "code",
   "execution_count": 14,
   "metadata": {},
   "outputs": [],
   "source": [
    "atm = pd.read_csv(\"atm_grid.csv\")"
   ]
  },
  {
   "cell_type": "code",
   "execution_count": 24,
   "metadata": {},
   "outputs": [],
   "source": [
    "with nc.Dataset(\"/mnt/beegfs/user/phi.richter/DATA_PHD/ERA5/ozone.nc\", \"r\") as f:\n",
    "    o3 = f.variables['o3'][:]\n",
    "    z_era5 = f.variables['z'][:]/9.80665*1e-3\n",
    "o3_f = scipy.interpolate.interp1d(np.array(z_era5[0,:,12,81]), np.array(o3[0,:,12,81]), fill_value=\"extrapolate\")\n",
    "o3 = o3_f(np.array(atm['altitude(km)']))\n",
    "o3_ppmv = 28.9644 / 47.9982 * 1e6 * o3"
   ]
  },
  {
   "cell_type": "code",
   "execution_count": 25,
   "metadata": {},
   "outputs": [],
   "source": [
    "atm['humidity(%)'] = 0\n",
    "atm['co(ppmv)'] = 0\n",
    "atm['ch4(ppmv)'] = 0\n",
    "atm['co2(ppmv)'] = 0\n",
    "atm['n2o(ppmv)'] = 0\n",
    "atm['o3(ppmv)'] = o3_ppmv"
   ]
  },
  {
   "cell_type": "code",
   "execution_count": 26,
   "metadata": {},
   "outputs": [],
   "source": [
    "atm.to_csv(\"atm_grid.csv\", index=False)"
   ]
  }
 ],
 "metadata": {
  "kernelspec": {
   "display_name": "v2020.3 LAMOS (py3.7.8)",
   "language": "python",
   "name": "lamos_2020.3"
  },
  "language_info": {
   "codemirror_mode": {
    "name": "ipython",
    "version": 3
   },
   "file_extension": ".py",
   "mimetype": "text/x-python",
   "name": "python",
   "nbconvert_exporter": "python",
   "pygments_lexer": "ipython3",
   "version": "3.7.8"
  }
 },
 "nbformat": 4,
 "nbformat_minor": 4
}
